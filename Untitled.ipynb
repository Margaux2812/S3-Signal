{
 "cells": [
  {
   "cell_type": "markdown",
   "metadata": {},
   "source": [
    "# TFTD fiche de la mort par Bastien\n",
    " \n",
    "$X(\\nu) = \\sum_0^{\\inf} x[n]*e^{-i2\\pi n\\nu}$\n",
    " \n",
    "Signal causal $\\Leftrightarrow x[n] = 0$\n",
    " \n",
    "### Propriété :\n",
    "\n",
    "- période = 1\n",
    "- symétrie Hermitienne : $X(-\\nu) = ]\\overline{X(\\nu)}$\n",
    "- signal pair $\\Rightarrow$ TFTD pair\n",
    "- signal impair $\\Rightarrow$ TFTD impair\n",
    "- linéarité\n",
    "  \n",
    "### Théorème du retard\n",
    "   \n",
    "   \n",
    "$(x[n])_n$ un signal  \n",
    "$y[n] = x[n-n_0]$  \n",
    "  \n",
    "Si $x[n] \\leftrightarrow X(\\nu)$ alors $y[n] \\leftrightarrow Y(\\nu) = X(\\nu) * e^{-2i\\pi n_0 \\nu}$  \n",
    "  \n",
    "### Décalage fréquentiel  \n",
    "  \n",
    "$x[n] \\leftrightarrow X(\\nu)$  \n",
    "$x[n]*e^{2i\\pi \\nu_0 n} \\leftrightarrow X(\\nu - \\nu_0)$  \n",
    "  \n",
    "## TFTD inverse\n",
    "  \n",
    "$x[n] = \\int_{-\\frac{1}{2}}^{\\frac{1}{2}} X(\\nu)*e^{2i\\pi n\\nu} d\\nu$"
   ]
  },
  {
   "cell_type": "code",
   "execution_count": null,
   "metadata": {},
   "outputs": [],
   "source": []
  }
 ],
 "metadata": {
  "kernelspec": {
   "display_name": "Python 3",
   "language": "python",
   "name": "python3"
  },
  "language_info": {
   "codemirror_mode": {
    "name": "ipython",
    "version": 3
   },
   "file_extension": ".py",
   "mimetype": "text/x-python",
   "name": "python",
   "nbconvert_exporter": "python",
   "pygments_lexer": "ipython3",
   "version": "3.7.1"
  }
 },
 "nbformat": 4,
 "nbformat_minor": 2
}
